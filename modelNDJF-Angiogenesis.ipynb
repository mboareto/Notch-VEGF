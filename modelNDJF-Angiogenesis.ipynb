{
 "cells": [
  {
   "cell_type": "markdown",
   "metadata": {},
   "source": [
    "## Notch-Delta-Jagged-Fringe-VEGF model for 1 cell (\"mean field\" approach)"
   ]
  },
  {
   "cell_type": "markdown",
   "metadata": {},
   "source": [
    "Equations:\n",
    "\n",
    "\\begin{equation}\n",
    "\\frac{dN}{dt} = N_0 H^{S+}(I) -  N [ (k_{c} D + k_{t} D_{ext})H^S(I, \\lambda^F_D) + (k_{c} J + k_{t} J_{ext})H^S(I, \\lambda^F_J)] - \\gamma N\n",
    "\\end{equation}\n",
    "\n",
    "\\begin{equation}\n",
    "\\frac{dD}{dt} = D_0 H^{S-}(I) H^{S+}(V) - k_c H^S(I, \\lambda^F_D) D N  - k_t D N_{ext} - \\gamma D\n",
    "\\end{equation}\n",
    "\n",
    "\\begin{equation}\n",
    "\\frac{dJ}{dt} = J_0 H^{S+}(I) - k_c H^S(I, \\lambda^F_J) J N  - k_t J N_{ext} - \\gamma J \n",
    "\\end{equation}\n",
    "\n",
    "\\begin{equation}\n",
    "\\frac{dI}{dt} = k_{t} N (D_{ext} H^S(I, \\lambda^F_D) + J_{ext} H^S(I, \\lambda^F_J)) - \\gamma_I I \n",
    "\\end{equation}\n",
    "\n",
    "\\begin{equation}\n",
    "\\frac{dV_R}{dt} = V_{R0} H^{S-}(I) - k_t V_R V_{ext} - \\gamma V_R \n",
    "\\end{equation}\n",
    "\n",
    "\\begin{equation}\n",
    "\\frac{dV}{dt} = k_t V_R V_{ext} - \\gamma_I V \n",
    "\\end{equation}"
   ]
  },
  {
   "cell_type": "code",
   "execution_count": 1,
   "metadata": {
    "collapsed": false
   },
   "outputs": [],
   "source": [
    "import PyDSTool_aux_functions as aux\n",
    "from PyDSTool import *\n",
    "from PyDSTool.Toolbox import phaseplane as pp\n",
    "\n",
    "%load_ext autoreload\n",
    "%autoreload 2\n",
    "%matplotlib inline\n",
    "plt.rcParams.update({'font.size': 18}) "
   ]
  },
  {
   "cell_type": "code",
   "execution_count": 2,
   "metadata": {
    "collapsed": false
   },
   "outputs": [],
   "source": [
    "nmodel = 'Notch_Angio'\n",
    "DSargs      = args(name=nmodel, checklevel=2)\n",
    "DSargs.pars = {'g'  : 1.0e-1                                                  # degradation of a protein \n",
    "              ,'gI' : 5.0e-1                                                  # degradation of NICD \n",
    "              ,'kc' : 5.0e-4                                                  # rate of cis interaction\n",
    "              ,'kt' : 2.5e-5                                                  # rate of trans interaction\n",
    "              ,'p'  : 2.0e+0, 'pj' : 5.0e+0                                   # hill coeficient\n",
    "              ,'I0' : 2.0e+2, 'V0' : 2.0e+2                                   # hill factor\n",
    "              ,'Nt' : 2.0e+3, 'Dt' : 0.4e+3, 'Jt' : 1.0e+3, 'Vt' : 2.0e+3     # external proteins\n",
    "              ,'N0' : 1.2e+3, 'D0' : 1.0e+3, 'J0' : 0.8e+3, 'R0' : 1.0e+3     # production rate\n",
    "              ,'ln' : 2.0e+0, 'ld' : 0.0e+0, 'lj' : 2.0e+0                    # lambda of shifted hill function\n",
    "              ,'lv' : 0.0e+0, 'ldv': 2.0e+0\n",
    "              ,'pf' : 1.0\n",
    "              ,'ldf': 3.0,    'ljf': 0.3\n",
    "              }\n",
    "DSargs.varspecs = {'N': '''N0*HS(I,I0,p ,ln) - N*( (kc*D + kt*Dt)*HS(I,I0,pf,ldf) \n",
    "                                                 + (kc*J + kt*Jt)*HS(I,I0,pf,ljf) ) - g*N'''\n",
    "                  ,'D': 'D0*HS(I,I0,p ,ld)*HS(V,V0,p,ldv) - D*( kc*N*HS(I,I0,pf,ldf) + kt*Nt ) - g*D'\n",
    "                  ,'J': 'J0*HS(I,I0,pj,lj)                - J*( kc*N*HS(I,I0,pf,ljf) + kt*Nt ) - g*J'\n",
    "                  ,'I': 'kt*N*( Dt*HS(I,I0,pf,ldf) + Jt*HS(I,I0,pf,ljf) )  - gI*I'\n",
    "                  ,'R': 'R0*HS(I,I0,p ,lv) - kt*R*Vt - g*R'\n",
    "                  ,'V': 'kt*R*Vt - gI*V'\n",
    "                  }\n",
    "DSargs.fnspecs  = [aux.functions()]\n",
    "DSargs.ics      = {'N': 0, 'D': 0, 'J': 0, 'I': 0, 'R': 0, 'V': 0}\n",
    "DSargs.xdomain  = {'N': [0, 2.0e+4], 'D': [-200, 2.0e+4], 'J': [0, 2.0e+4]\n",
    "                  ,'I': [0, 1.0e+4], 'R': [0, 2.0e+4], 'V': [0, 2.0e+4]\n",
    "                  }\n",
    "DSargs.pdomain  = {'Dt': [0, 5001], 'Jt': [0, 12001], 'Vt': [-200,12001]\n",
    "                  }\n",
    "DSargs.tdomain  = [0., 100.]\n",
    "DSargs.algparams= {'init_step':0.1}\n",
    "ODE = Vode_ODEsystem(DSargs)"
   ]
  },
  {
   "cell_type": "code",
   "execution_count": null,
   "metadata": {
    "collapsed": false
   },
   "outputs": [],
   "source": [
    "freepar = 'Dt'\n",
    "ODE = Vode_ODEsystem(DSargs)\n",
    "# ------------------------------- Fig. 2B ---------------------------------------------\n",
    "aux.plot_continuation(ODE, freepar, keys=['D'], bif_startpoint=1.0, xlim=[0,5000], \n",
    "                      xticks=[0, 1000, 2000, 3000, 4000, 5000], yticks=[0, 2000, 4000, 6000, 8000],\n",
    "                      maxstep=1e+2, minstep=1e-2, step=5e+1, silence=True, fig_name='./figures/Bif_Dt_Vt2000.pdf')\n",
    "# ------------------------------- Fig. S3 ---------------------------------------------\n",
    "aux.plot_continuation(ODE, freepar, keys=['N', 'D', 'J', 'I', 'R', 'V'], bif_startpoint=1.0, ncol=3, nrow=2, \n",
    "                      xlim=[0,5000], xticks=[0, 1000, 2000, 3000, 4000, 5000], maxstep=1e+2, minstep=1e-2, \n",
    "                      step=5e+1, silence=True, fig_name='./figures/Bif_Dt_Vt2000_All.pdf')\n",
    "# ------------------------------- Fig. S2 ---------------------------------------------\n",
    "aux.param_sensitivity_bifurcations(DSargs, freepar, 'D', ['R0','gI','N0','kt','D0','ldv'], 0.1, silence=True,\n",
    "                                   maxstep=2e+2, minstep=1e-2, step=5e+1, nrow=2, ncol=3, xlim=[0, 5000],\n",
    "                                   yticks=[0, 2000, 4000, 6000, 8000],\n",
    "                                   fig_name='./figures/ParamSensit_Bifurcations.pdf')"
   ]
  },
  {
   "cell_type": "code",
   "execution_count": null,
   "metadata": {
    "collapsed": false
   },
   "outputs": [],
   "source": [
    "freepar = 'Jt'\n",
    "ODE = Vode_ODEsystem(DSargs)\n",
    "# ------------------------------- Fig. S4A ---------------------------------------------\n",
    "aux.plot_continuation(ODE, freepar, keys=['D'], bif_startpoint=1.0, xlim=[0,10000], maxstep=1e+2, minstep=1e-2,\n",
    "                      step=5e+1, xticks=[0, 2000, 4000, 6000, 8000, 10000], yticks=[0, 2000, 4000, 6000, 8000],\n",
    "                      silence=True, fig_name='./figures/Bif_Jt_Vt2000.pdf')"
   ]
  },
  {
   "cell_type": "code",
   "execution_count": null,
   "metadata": {
    "collapsed": false,
    "scrolled": false
   },
   "outputs": [],
   "source": [
    "v   = 'Vt'\n",
    "r_v = range(0,5001,500)\n",
    "# ------------------------------- Fig. 2C ---------------------------------------------\n",
    "freepar = 'Dt'\n",
    "ODE = Vode_ODEsystem(DSargs)\n",
    "aux.plot_phasediagram(ODE, freepar, v, r_v, bif_startpoint=0.1, xlim=[0,5000], show_continuation=False,\n",
    "                      yticks=[0, 1000, 2000, 3000, 4000, 5000], xticks=[0, 1000, 2000, 3000, 4000, 5000], \n",
    "                      maxstep=1e+2, minstep=1e-2, step=5e+1, LocBifPoints=['LP','B'], \n",
    "                      silence=True, fig_name='./figures/PhaseDiagram_DtxVt.pdf')\n",
    "# ------------------------------- Fig. S4B ---------------------------------------------\n",
    "freepar = 'Jt'\n",
    "ODE = Vode_ODEsystem(DSargs)\n",
    "aux.plot_phasediagram(ODE, freepar,v, r_v, bif_startpoint=0.1, xlim=[0,10000], show_continuation=False, \n",
    "                      xticks=[0, 2000, 4000, 6000, 8000, 10000], yticks=[0, 1000, 2000, 3000, 4000, 5000],\n",
    "                      maxstep=1e+2, minstep=1e-2, step=5e+1, LocBifPoints=['LP','B'], \n",
    "                      silence=True, fig_name='./figures/PhaseDiagram_JtxVt.pdf')"
   ]
  },
  {
   "cell_type": "code",
   "execution_count": null,
   "metadata": {
    "collapsed": false
   },
   "outputs": [],
   "source": [
    "freepar = 'Dt'\n",
    "DSargs.pdomain['Dt'] = [0, 10001]\n",
    "\n",
    "# ------------------------------- Fig. 3B ---------------------------------------------\n",
    "r_v = list(range(500,2000,250)) + [1950]\n",
    "v = 'J0'\n",
    "ODE = Vode_ODEsystem(DSargs)\n",
    "aux.plot_phasediagram(ODE, freepar, v, r_v, bif_startpoint=0.1, silence=True, show_continuation=False, \n",
    "                      xlim=[0,8000], ylim=[500, 2000], LocBifPoints=['LP','B'], xticks=[0, 2000, 4000, 6000, 8000], \n",
    "                      yticks=[500, 1000, 1500, 2000], fig_name='./figures/PhaseDiagram_DtJ0.pdf')\n",
    "# ------------------------------- Fig. 3E ---------------------------------------------\n",
    "r_v = [550] + list(range(600,2000,200))\n",
    "v   = 'D0'\n",
    "ODE = Vode_ODEsystem(DSargs)\n",
    "ODE.set(pars = {'J0': 1200} )\n",
    "aux.plot_phasediagram(ODE, freepar, v, r_v, bif_startpoint=0.1, silence=True, show_continuation=False, \n",
    "                      xlim=[0,10000], ylim=[500, 2000], LocBifPoints=['LP','B'], yticks=[500, 1000, 1500, 2000],\n",
    "                      xticks=[0, 2000, 4000, 6000, 8000, 10000], fig_name='./figures/PhaseDiagram_DtD0.pdf')"
   ]
  },
  {
   "cell_type": "code",
   "execution_count": null,
   "metadata": {
    "collapsed": false,
    "scrolled": false
   },
   "outputs": [],
   "source": [
    "freepar = 'Dt'\n",
    "ODE = Vode_ODEsystem(DSargs)\n",
    "# ------------------------------- Fig. 3A ---------------------------------------------\n",
    "ODE.set(pars = {'J0': 800})\n",
    "aux.plot_continuation(ODE, freepar, keys=['D'], bif_startpoint=1.0, xlim=[0, 6000], xticks=[0, 2000, 4000, 6000],\n",
    "                      ylim=[0, 8000], yticks=[0, 2000, 4000, 6000, 8000], silence=True, \n",
    "                      fig_name='./figures/Bifurc_Dt_J0_800.pdf')\n",
    "# ------------------------------- Fig. 3C ---------------------------------------------\n",
    "ODE.set(pars = {'J0': 1800})\n",
    "aux.plot_continuation(ODE, freepar, keys=['D'], bif_startpoint=1.0, xlim=[4000, 8000], xticks=[4000, 6000, 8000], \n",
    "                      ylim=[0, 8000], yticks=[0, 2000, 4000, 6000, 8000], silence=True, \n",
    "                      fig_name='./figures/Bifurc_Dt_J0_1800.pdf')\n",
    "# ------------------------------- Fig. S5A ---------------------------------------------\n",
    "aux.plot_continuation(ODE, freepar, keys=['N','D','J','I','R','V'], bif_startpoint=1.0, xlim=[4000, 8000], ncol=3,\n",
    "                      nrow=2, xticks=[4000, 6000, 8000], \n",
    "                      silence=True, fig_name='./figures/Bifurc_Dt_J0_1800_All.pdf')\n",
    "# ------------------------------- Fig. 3D ---------------------------------------------\n",
    "ODE.set(pars = {'J0': 1400, 'D0': 800})\n",
    "aux.plot_continuation(ODE, freepar, keys=['D'], bif_startpoint=1.0, xlim=[2000, 6000],  xticks=[2000, 4000, 6000],\n",
    "                      ylim=[0, 6000], yticks=[0, 2000, 4000, 6000], silence=True, \n",
    "                      fig_name='./figures/Bifurc_Dt_D0_800.pdf')\n",
    "# ------------------------------- Fig. S5B ---------------------------------------------\n",
    "aux.plot_continuation(ODE, freepar, keys=['N','D','J','I','R','V'], bif_startpoint=1.0, xlim=[2000, 6000],  ncol=3,\n",
    "                      nrow=2, xticks=[2000, 4000, 6000], \n",
    "                      silence=True, fig_name='./figures/Bifurc_Dt_D0_800_All.pdf')\n",
    "# ------------------------------- Fig. 3F ---------------------------------------------\n",
    "ODE.set(pars = {'J0': 1400, 'D0': 1600})\n",
    "aux.plot_continuation(ODE, freepar, keys=['D'], bif_startpoint=1.0, xlim=[0, 10000], ylim=[0,16000], \n",
    "                      yticks=[0, 5000, 10000, 15000], \n",
    "                      silence=True, fig_name='./figures/Bifurc_Dt_D0_1600.pdf')"
   ]
  },
  {
   "cell_type": "code",
   "execution_count": null,
   "metadata": {
    "collapsed": false,
    "scrolled": false
   },
   "outputs": [],
   "source": [
    "# ------------------------------- Fig. 2D ---------------------------------------------\n",
    "freepar = 'Jt'\n",
    "DSargs.pdomain['Jt'] = [-20000, 14001]\n",
    "v   = 'Dt'\n",
    "r_v = range(0,4001,1000)\n",
    "ODE = Vode_ODEsystem(DSargs)\n",
    "aux.plot_phasediagram(ODE, freepar, v, r_v, bif_startpoint=7000, xlim=[0,8000], ylim=[0,4000], silence=True,\n",
    "                      xticks=[0, 2000, 4000, 6000, 8000], yticks=[0, 2000, 4000], show_continuation=False, \n",
    "                      LocBifPoints=['LP','B'], fig_name='./figures/PhaseDiagram_Jt_Dt.pdf')"
   ]
  },
  {
   "cell_type": "code",
   "execution_count": null,
   "metadata": {
    "collapsed": false
   },
   "outputs": [],
   "source": [
    "# ------------------------------- Fig. 2A ---------------------------------------------\n",
    "DSargs.pars['Dt'] = 2000\n",
    "DSargs.pars['Jt'] = 2000\n",
    "DSargs.pars['Vt'] = 2000\n",
    "ODE = Vode_ODEsystem(DSargs)\n",
    "vlim = {'D': [-200,7000], 'I': [0,1300]}\n",
    "fp = aux.eliminate_redundants(pp.find_fixedpoints(ODE, n=4, maxsearch=1e+4, eps=1e-10),6)\n",
    "stab = aux.stability(fp, ODE)\n",
    "aux.nullclines(['I','D'], DSargs, stab, fp, nfp=0, vlim=vlim, maxpoints=[1000,1000], xticks=[0, 500, 1000],\n",
    "               yticks=[0, 2000, 4000, 6000], step=5e+1, minstep=1e-0, maxstep=1e+2, silence=True, \n",
    "               fig_name='figures/Nullcline_IxD.pdf')"
   ]
  },
  {
   "cell_type": "code",
   "execution_count": null,
   "metadata": {
    "collapsed": false
   },
   "outputs": [],
   "source": [
    "# ------------------------------- Fig. S1 ---------------------------------------------\n",
    "list_pars = DSargs.pars.keys()\n",
    "DSargs.pars['J0'] = 1000\n",
    "DSargs.pars['D0'] = 1200\n",
    "DSargs.pars['Vt'] = 4000\n",
    "DSargs.pars['Dt'] = 500\n",
    "DSargs.pars['Jt'] = 1000\n",
    "ODE = Vode_ODEsystem(DSargs)\n",
    "aux.param_sensitivity_bars(list_pars, ODE, DSargs, 'I', fig_name='./figures/ParamSensit_I.pdf')\n",
    "aux.param_sensitivity_bars(list_pars, ODE, DSargs, 'V', fig_name='./figures/ParamSensit_V.pdf')"
   ]
  },
  {
   "cell_type": "code",
   "execution_count": null,
   "metadata": {
    "collapsed": true
   },
   "outputs": [],
   "source": []
  }
 ],
 "metadata": {
  "kernelspec": {
   "display_name": "Python 2",
   "language": "python",
   "name": "python2"
  },
  "language_info": {
   "codemirror_mode": {
    "name": "ipython",
    "version": 2
   },
   "file_extension": ".py",
   "mimetype": "text/x-python",
   "name": "python",
   "nbconvert_exporter": "python",
   "pygments_lexer": "ipython2",
   "version": "2.7.6"
  }
 },
 "nbformat": 4,
 "nbformat_minor": 0
}
